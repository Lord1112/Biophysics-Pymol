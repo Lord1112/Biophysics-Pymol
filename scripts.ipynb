{
 "cells": [
  {
   "cell_type": "code",
   "execution_count": 4,
   "metadata": {},
   "outputs": [
    {
     "name": "stderr",
     "output_type": "stream",
     "text": [
      "/home/sergi/anaconda3/lib/python3.9/site-packages/Bio/PDB/StructureBuilder.py:89: PDBConstructionWarning: WARNING: Chain A is discontinuous at line 6961.\n",
      "  warnings.warn(\n",
      "/home/sergi/anaconda3/lib/python3.9/site-packages/Bio/PDB/StructureBuilder.py:89: PDBConstructionWarning: WARNING: Chain E is discontinuous at line 7019.\n",
      "  warnings.warn(\n",
      "/home/sergi/anaconda3/lib/python3.9/site-packages/Bio/PDB/StructureBuilder.py:89: PDBConstructionWarning: WARNING: Chain A is discontinuous at line 7033.\n",
      "  warnings.warn(\n",
      "/home/sergi/anaconda3/lib/python3.9/site-packages/Bio/PDB/StructureBuilder.py:89: PDBConstructionWarning: WARNING: Chain E is discontinuous at line 7104.\n",
      "  warnings.warn(\n"
     ]
    },
    {
     "ename": "KeyError",
     "evalue": "<Atom N>",
     "output_type": "error",
     "traceback": [
      "\u001b[0;31m---------------------------------------------------------------------------\u001b[0m",
      "\u001b[0;31mKeyError\u001b[0m                                  Traceback (most recent call last)",
      "\u001b[1;32m/home/sergi/Escritorio/Biophysics/Biophysics-Pymol-1/scripts.ipynb Cell 1\u001b[0m line \u001b[0;36m<cell line: 32>\u001b[0;34m()\u001b[0m\n\u001b[1;32m     <a href='vscode-notebook-cell:/home/sergi/Escritorio/Biophysics/Biophysics-Pymol-1/scripts.ipynb#W0sZmlsZQ%3D%3D?line=37'>38</a>\u001b[0m         atoms_to_remove\u001b[39m.\u001b[39mappend(atom)\n\u001b[1;32m     <a href='vscode-notebook-cell:/home/sergi/Escritorio/Biophysics/Biophysics-Pymol-1/scripts.ipynb#W0sZmlsZQ%3D%3D?line=38'>39</a>\u001b[0m \u001b[39mfor\u001b[39;00m atom \u001b[39min\u001b[39;00m atoms_to_remove:\n\u001b[0;32m---> <a href='vscode-notebook-cell:/home/sergi/Escritorio/Biophysics/Biophysics-Pymol-1/scripts.ipynb#W0sZmlsZQ%3D%3D?line=39'>40</a>\u001b[0m     residue\u001b[39m.\u001b[39;49mdetach_child(atom)\n",
      "File \u001b[0;32m~/anaconda3/lib/python3.9/site-packages/Bio/PDB/Entity.py:208\u001b[0m, in \u001b[0;36mEntity.detach_child\u001b[0;34m(self, id)\u001b[0m\n\u001b[1;32m    206\u001b[0m \u001b[39mdef\u001b[39;00m \u001b[39mdetach_child\u001b[39m(\u001b[39mself\u001b[39m, \u001b[39mid\u001b[39m):\n\u001b[1;32m    207\u001b[0m     \u001b[39m\"\"\"Remove a child.\"\"\"\u001b[39;00m\n\u001b[0;32m--> 208\u001b[0m     child \u001b[39m=\u001b[39m \u001b[39mself\u001b[39;49m\u001b[39m.\u001b[39;49mchild_dict[\u001b[39mid\u001b[39;49m]\n\u001b[1;32m    209\u001b[0m     child\u001b[39m.\u001b[39mdetach_parent()\n\u001b[1;32m    210\u001b[0m     \u001b[39mdel\u001b[39;00m \u001b[39mself\u001b[39m\u001b[39m.\u001b[39mchild_dict[\u001b[39mid\u001b[39m]\n",
      "\u001b[0;31mKeyError\u001b[0m: <Atom N>"
     ]
    }
   ],
   "source": [
    "from Bio.PDB import *\n",
    "from biobb_structure_checking import *\n",
    "from Bio.PDB import Chain\n",
    "from Bio.PDB import Model\n",
    "from Bio.PDB import Structure\n",
    "parser = PDBParser()\n",
    "unStructure=parser.get_structure(\"6m0j.pdb\",\"6m0j.pdb\")\n",
    "unChainA = unStructure[0][\"A\"]\n",
    "unChainE = unStructure[0][\"E\"]\n",
    "\n",
    "def chainCleaner(chain,chainID):\n",
    "    cleanedChain = Chain.Chain(chainID)\n",
    "    for i in chain.get_residues():\n",
    "        if i.resname in {'ALA', 'CYS', 'ASP', 'GLU', 'PHE', 'GLY', 'HIS', 'ILE', 'LYS', 'LEU', 'MET', 'ASN', 'PRO', 'GLN', 'ARG', 'SER', 'THR', 'VAL', 'TRP', 'TYR'}:\n",
    "            cleanedChain.add(i)\n",
    "    return(cleanedChain)\n",
    "        \n",
    "clChainA= chainCleaner(unChainA,\"A\")\n",
    "clChainE= chainCleaner(unChainE,\"E\")\n",
    "\n",
    "clModel = Model.Model(0)\n",
    "\n",
    "clModel.add(clChainA)\n",
    "clModel.add(clChainE)\n",
    "\n",
    "clStructure = Structure.Structure(0)\n",
    "\n",
    "clStructure.add(clModel)\n",
    "\n",
    "# Remove heteroatoms\n",
    "for model in clStructure:\n",
    "    for chain in model:\n",
    "        for residue in chain:\n",
    "            atoms_to_keep = []\n",
    "            for atom in residue:\n",
    "                if atom.get_id()[0] == \" \":\n",
    "                    atoms_to_keep.append(atom)\n",
    "            residue.child_list = atoms_to_keep\n",
    "\n",
    "\n",
    "\n",
    "\n"
   ]
  },
  {
   "cell_type": "code",
   "execution_count": null,
   "metadata": {},
   "outputs": [],
   "source": []
  }
 ],
 "metadata": {
  "kernelspec": {
   "display_name": "base",
   "language": "python",
   "name": "python3"
  },
  "language_info": {
   "codemirror_mode": {
    "name": "ipython",
    "version": 3
   },
   "file_extension": ".py",
   "mimetype": "text/x-python",
   "name": "python",
   "nbconvert_exporter": "python",
   "pygments_lexer": "ipython3",
   "version": "3.9.12"
  }
 },
 "nbformat": 4,
 "nbformat_minor": 2
}
