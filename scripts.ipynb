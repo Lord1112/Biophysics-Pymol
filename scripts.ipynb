{
 "cells": [
  {
   "cell_type": "code",
   "execution_count": 1,
   "metadata": {},
   "outputs": [
    {
     "name": "stderr",
     "output_type": "stream",
     "text": [
      "/home/ismael/anaconda3/lib/python3.9/site-packages/Bio/PDB/StructureBuilder.py:89: PDBConstructionWarning: WARNING: Chain A is discontinuous at line 6961.\n",
      "  warnings.warn(\n",
      "/home/ismael/anaconda3/lib/python3.9/site-packages/Bio/PDB/StructureBuilder.py:89: PDBConstructionWarning: WARNING: Chain E is discontinuous at line 7019.\n",
      "  warnings.warn(\n",
      "/home/ismael/anaconda3/lib/python3.9/site-packages/Bio/PDB/StructureBuilder.py:89: PDBConstructionWarning: WARNING: Chain A is discontinuous at line 7033.\n",
      "  warnings.warn(\n",
      "/home/ismael/anaconda3/lib/python3.9/site-packages/Bio/PDB/StructureBuilder.py:89: PDBConstructionWarning: WARNING: Chain E is discontinuous at line 7104.\n",
      "  warnings.warn(\n"
     ]
    }
   ],
   "source": [
    "from Bio.PDB import *\n",
    "from Bio.PDB.PDBIO import PDBIO\n",
    "from biobb_structure_checking import *\n",
    "\n",
    "parser = PDBParser()\n",
    "unStructure=parser.get_structure(\"6m0j.pdb\",\"6m0j.pdb\")\n",
    "unChainA = unStructure[0][\"A\"]\n",
    "unChainE = unStructure[0][\"E\"]\n",
    "\n",
    "def chainCleaner(chain,chainID):\n",
    "    cleanedChain = Chain.Chain(chainID)\n",
    "    for i in chain.get_residues():\n",
    "        if i.resname in {'ALA', 'CYS', 'ASP', 'GLU', 'PHE', 'GLY', 'HIS', 'ILE', 'LYS', 'LEU', 'MET', 'ASN', 'PRO', 'GLN', 'ARG', 'SER', 'THR', 'VAL', 'TRP', 'TYR'}:\n",
    "            cleanedChain.add(i)\n",
    "    return(cleanedChain)\n",
    "        \n",
    "clChainA= chainCleaner(unChainA,\"A\")\n",
    "clChainE= chainCleaner(unChainE,\"E\")\n",
    "\n",
    "clModel = Model.Model(0)\n",
    "\n",
    "clModel.add(clChainA)\n",
    "clModel.add(clChainE)\n",
    "\n",
    "clStructure = Structure.Structure(0)\n",
    "\n",
    "clStructure.add(clModel)\n",
    "\n",
    "#Save the cleaned structure to a pdb file\n",
    "pdbCreator=PDBIO()\n",
    "pdbCreator.set_structure(clStructure)\n",
    "pdbCreator.save(\"cl_d6m0j.pdb\")\n",
    "\n"
   ]
  },
  {
   "cell_type": "code",
   "execution_count": null,
   "metadata": {},
   "outputs": [],
   "source": []
  }
 ],
 "metadata": {
  "kernelspec": {
   "display_name": "base",
   "language": "python",
   "name": "python3"
  },
  "language_info": {
   "codemirror_mode": {
    "name": "ipython",
    "version": 3
   },
   "file_extension": ".py",
   "mimetype": "text/x-python",
   "name": "python",
   "nbconvert_exporter": "python",
   "pygments_lexer": "ipython3",
   "version": "3.9.12"
  }
 },
 "nbformat": 4,
 "nbformat_minor": 2
}
