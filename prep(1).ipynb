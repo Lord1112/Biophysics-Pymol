{
 "cells": [
  {
   "cell_type": "markdown",
   "metadata": {},
   "source": [
    "# PREPARATION"
   ]
  },
  {
   "cell_type": "code",
   "execution_count": 30,
   "metadata": {},
   "outputs": [
    {
     "name": "stdout",
     "output_type": "stream",
     "text": [
      "The autoreload extension is already loaded. To reload it, use:\n",
      "  %reload_ext autoreload\n"
     ]
    }
   ],
   "source": [
    "%load_ext autoreload\n",
    "%autoreload 2"
   ]
  },
  {
   "cell_type": "code",
   "execution_count": 31,
   "metadata": {},
   "outputs": [],
   "source": [
    "# Basic imports and initialization\n",
    "import biobb_structure_checking\n",
    "import biobb_structure_checking.constants as cts\n",
    "from biobb_structure_checking.structure_checking import StructureChecking\n",
    "base_dir_path=biobb_structure_checking.__path__[0]\n",
    "args = cts.set_defaults(base_dir_path,{'notebook':True})"
   ]
  },
  {
   "cell_type": "code",
   "execution_count": 32,
   "metadata": {},
   "outputs": [
    {
     "name": "stdout",
     "output_type": "stream",
     "text": [
      "\n",
      "BioBB's check_structure.py performs MDWeb structure checking set as a command line\n",
      "utility.\n",
      "\n",
      "commands:     Help on available commands\n",
      "command_list: Run all tests from conf file or command line list\n",
      "checkall:     Perform all checks without fixes\n",
      "load:         Stores structure on local cache and provides basic statistics\n",
      "\n",
      "1. System Configuration\n",
      "=======================\n",
      "sequences [--output_fasta FASTA]\n",
      "    Print canonical and structure sequences in FASTA format\n",
      "    --output_fasta Write sequences found in an externla FASTA file\n",
      "models [--select model_num] [--superimpose] [--save_split]\n",
      "    Detect/Select Models\n",
      "    --superimpose Superimposes currently selected models\n",
      "    --save_split Split models as separated output files.\n",
      "    --build_complex Build an actual complex from Biounits stored as collection of models\n",
      "chains [--select chain_ids | molecule_type] [--rename (auto|new label)]\n",
      "    [--renumber (auto | [A:]ini0[-fin0]=[B:]ini1)] [--rem_inscodes]\n",
      "    Detect/Select Chains\n",
      "    --select chains ids or chain types (PROTEIN|NA|DNA|RNA) to keep\n",
      "    --rename allow to fix unlabelled chains\n",
      "    --renumber allow to reorganize residues and chains by moving or renunbering fragments. Auto generate consecutive residue numbers.\n",
      "    --rem_inscodes removes insertion codes when renumbering chains\n",
      "inscodes\n",
      "    Detects residues with insertion codes.\n",
      "    --renumber fix insertion codes by renumbering chain residues\n",
      "altloc [--select occupancy| alt_id | list of res_id:alt_id]\n",
      "    Detect/Select Alternative Locations\n",
      "metals [--remove All | None | Met_ids_list | Residue_list]\n",
      "    Detect/Remove Metals\n",
      "ligands [--remove All | None | Res_type_list | Residue_list]\n",
      "    Detect/Remove Ligands\n",
      "getss      Detect SS Bonds\n",
      "    --mark Replace relevant CYS by CYX to mark SS Bond (HG atom removed if present)\n",
      "water [--remove Yes|No]\n",
      "    Remove Water molecules\n",
      "rem_hydrogen [--remove Yes|No]\n",
      "    Remove Hydrogen atoms from structure\n",
      "mutateside [--mut mutation_list|file:mutations_file] [--no_check_clashes]\n",
      "    Mutate side chain with minimal atom replacement. Allows multiple mutations.\n",
      "    mutation_list as file: accepts list of mutations in a external file\n",
      "    Check generated clashes except --no_check_clashes set\n",
      "    --rebuild Optimize side chains using Modeller.\n",
      "add_hydrogen [--add_mode auto | pH | list | interactive | interactive_his] [--no_fix_side] [--keep_h] [--add_charges FF]\n",
      "    Add Hydrogen Atoms. Auto: std changes at pH 7.0. His->Hie. pH: set pH value\n",
      "    list: Explicit list as [*:]HisXXHid, Interactive[_his]: Prompts for all selectable residues\n",
      "    Fixes missing side chain atoms unless --no_fix_side is set\n",
      "    Existing hydrogen atoms are removed before adding new ones unless --keep_h set.\n",
      "    --add_charges FF adds partial charges (from RES_LIBRARY) and atom types from FF forcefield. Output format taken from file extension or --output_format\n",
      "    Residue names are modified according to ionization state (e.g. HIS-> HIE, HID, HIP). Use --keep_canonical_resnames to avoid this behaviour\n",
      "\n",
      "2. Fix Structure Errors\n",
      "\n",
      "amide  [--fix All|None|Residue List] [--no_recheck]\n",
      "    Detect/Fix Amide atoms Assignment\n",
      "    Amide contacts are recheck unless --no_recheck\n",
      "chiral [--fix All|None|Residue List] [--no_check_clashes]\n",
      "    Detect/Fix Improper quirality\n",
      "    Checks generated clashes unless --no_check_clashes set\n",
      "fixside [--fix All |None|Residue List] [--no_check_clashes]\n",
      "    Complete side chains (heavy atoms, protein only)\n",
      "    Checks generated clashes unless --no_check_clashes set\n",
      "    --rebuild  Rebuild complete side chain using Modeller\n",
      "backbone [--fix_atoms All|None|Residue List]\n",
      "         [--fix_chain All|None|Break list]\n",
      "         [--add_caps All|None|Break list]\n",
      "         [--extra_gap]\n",
      "         [--no_recheck]\n",
      "         [--no_check_clashes]\n",
      "    Analyze main chain missing atoms and fragments (protein only).\n",
      "    --fix_atoms Missing O, OXT atoms can be fixed\n",
      "    --fix_chain Missing fragments filled using comparative modelling (Modeller License needed)\n",
      "    --add_caps Adds ACE and NME residues as necessary, preserving existing atoms\n",
      "    --extra_gap Recovers additional residues from model either side of the break, helps to fix loop connections (experimental)\n",
      "    Rechecks beckbone on each op unless --no_recheck is set.\n",
      "    Generated clashes are checked unless --no_check_clashes\n",
      "\n",
      "3. Structure Warnings (no fix)\n",
      "\n",
      "cistransbck Analyzes cis-trans dihedrals on backbone atoms\n",
      "clashes    Steric clashes (Severe, Apolar, Polar Donors, Polar Acceptors,\n",
      "           Ionic Positive, Ionic Negative)\n",
      "\n"
     ]
    }
   ],
   "source": [
    "# General help\n",
    "with open(args['commands_help_path']) as help_file:\n",
    "    print(help_file.read())"
   ]
  },
  {
   "cell_type": "code",
   "execution_count": 33,
   "metadata": {},
   "outputs": [],
   "source": [
    "# Set the input and the output\n",
    "base_path = '//home/jancarreras/Desktop/BIOINFO/2n/Biophysics/project/'\n",
    "args['input_structure_path'] = base_path + '6m0j.cif'\n",
    "args['output_structure_path'] = base_path + '6m0j_fixed.pdb'\n",
    "args['output_structure_path_charges'] = base_path + '6m0j_fixed.pdbqt'\n",
    "args['debug'] = False\n",
    "args['verbose'] = False\n",
    "#Added missing defaults/home/gelpi/DEVEL/BioPhysics/wdir/\n",
    "args['time_limit'] = 3600\n",
    "args['nocache'] = False\n",
    "args['copy_input'] = None\n",
    "args['build_warnings'] = False\n",
    "args['coords_only'] = False\n",
    "args['overwrite'] = False\n",
    "args['output_format'] = 'pdb'"
   ]
  },
  {
   "cell_type": "code",
   "execution_count": 34,
   "metadata": {},
   "outputs": [
    {
     "name": "stdout",
     "output_type": "stream",
     "text": [
      "Canonical sequence for model 0:\n",
      "Structure //home/jancarreras/Desktop/BIOINFO/2n/Biophysics/project/6m0j.cif loaded\n",
      " PDB id: 6M0J \n",
      " Title: Crystal structure of SARS-CoV-2 spike receptor-binding domain bound with ACE2\n",
      " Experimental method: X-RAY DIFFRACTION\n",
      " Keywords: VIRAL PROTEIN/HYDROLASE\n",
      " Resolution (A): 2.4500\n",
      "\n",
      " Num. models: 1\n",
      " Num. chains: 2 (A: Protein, E: Protein)\n",
      " Num. residues:  878\n",
      " Num. residues with ins. codes:  0\n",
      " Num. residues with H atoms: 0\n",
      " Num. HETATM residues:  87\n",
      " Num. ligands or modified residues:  7\n",
      " Num. water mol.:  80\n",
      " Num. atoms:  6558\n",
      "Metal/Ion residues found\n",
      " ZN A901\n",
      " CL A902\n",
      "Small mol ligands found\n",
      "NAG A903\n",
      "NAG A904\n",
      "NAG A905\n",
      "NAG A906\n",
      "NAG E601\n"
     ]
    }
   ],
   "source": [
    "# Load the structure\n",
    "st_c = StructureChecking(base_dir_path, args)"
   ]
  },
  {
   "cell_type": "code",
   "execution_count": 35,
   "metadata": {},
   "outputs": [
    {
     "name": "stdout",
     "output_type": "stream",
     "text": [
      "Running models.\n",
      "Detected 1 Model(s)\n",
      "Found Single model\n"
     ]
    }
   ],
   "source": [
    "# Check for models in the structure\n",
    "st_c.models()"
   ]
  },
  {
   "cell_type": "code",
   "execution_count": 36,
   "metadata": {},
   "outputs": [
    {
     "name": "stdout",
     "output_type": "stream",
     "text": [
      "Running chains.\n",
      "Detected 2 Chain(s)\n",
      " A: Protein\n",
      " E: Protein\n"
     ]
    }
   ],
   "source": [
    "# Check for chains\n",
    "st_c.chains()"
   ]
  },
  {
   "cell_type": "code",
   "execution_count": 37,
   "metadata": {},
   "outputs": [
    {
     "name": "stdout",
     "output_type": "stream",
     "text": [
      "Running altloc.\n",
      "Detected 2 residues with alternative location labels\n",
      "HIS A228\n",
      "  CA   A (0.50) B (0.50)\n",
      "  CB   A (0.50) B (0.50)\n",
      "  CG   A (0.50) B (0.50)\n",
      "  ND1  A (0.50) B (0.50)\n",
      "  CD2  A (0.50) B (0.50)\n",
      "  CE1  A (0.50) B (0.50)\n",
      "  NE2  A (0.50) B (0.50)\n",
      "GLN E493\n",
      "  CA   A (0.50) B (0.50)\n",
      "  CB   A (0.50) B (0.50)\n",
      "  CG   A (0.50) B (0.50)\n",
      "  CD   A (0.50) B (0.50)\n",
      "  OE1  A (0.50) B (0.50)\n",
      "  NE2  A (0.50) B (0.50)\n",
      "Running altloc. Options: occupancy\n",
      "Detected 2 residues with alternative location labels\n",
      "HIS A228\n",
      "  CA   A (0.50) B (0.50)\n",
      "  CB   A (0.50) B (0.50)\n",
      "  CG   A (0.50) B (0.50)\n",
      "  ND1  A (0.50) B (0.50)\n",
      "  CD2  A (0.50) B (0.50)\n",
      "  CE1  A (0.50) B (0.50)\n",
      "  NE2  A (0.50) B (0.50)\n",
      "GLN E493\n",
      "  CA   A (0.50) B (0.50)\n",
      "  CB   A (0.50) B (0.50)\n",
      "  CG   A (0.50) B (0.50)\n",
      "  CD   A (0.50) B (0.50)\n",
      "  OE1  A (0.50) B (0.50)\n",
      "  NE2  A (0.50) B (0.50)\n",
      "Selecting location occupancy\n",
      "Running altloc.\n",
      "Detected no residues with alternative location labels\n"
     ]
    }
   ],
   "source": [
    "# Check for residues with alternative coordinates and their occupancy\n",
    "st_c.altloc()\n",
    "st_c.altloc('occupancy')\n",
    "st_c.altloc()"
   ]
  },
  {
   "cell_type": "code",
   "execution_count": 38,
   "metadata": {},
   "outputs": [
    {
     "name": "stdout",
     "output_type": "stream",
     "text": [
      "Running metals.\n",
      "Found 1 Metal ions\n",
      "  ZN A901.ZN \n"
     ]
    }
   ],
   "source": [
    "# Detects heteroatoms being metal ions, allows us to remove them\n",
    "st_c.metals()"
   ]
  },
  {
   "cell_type": "code",
   "execution_count": 39,
   "metadata": {},
   "outputs": [
    {
     "name": "stdout",
     "output_type": "stream",
     "text": [
      "Running ligands.\n",
      "Detected 7 Ligands\n",
      "  ZN A901\n",
      "  CL A902\n",
      " NAG A903\n",
      " NAG A904\n",
      " NAG A905\n",
      " NAG A906\n",
      " NAG E601\n",
      "Running ligands. Options: All\n",
      "Detected 7 Ligands\n",
      "  ZN A901\n",
      "  CL A902\n",
      " NAG A903\n",
      " NAG A904\n",
      " NAG A905\n",
      " NAG A906\n",
      " NAG E601\n",
      "Canonical sequence for model 0:\n",
      "Ligands removed All (7)\n",
      "Running ligands.\n",
      "No ligands found\n"
     ]
    }
   ],
   "source": [
    "# # Detects heteroatoms being ligands, allows us to remove them\n",
    "st_c.ligands()\n",
    "st_c.ligands('All')\n",
    "st_c.ligands()"
   ]
  },
  {
   "cell_type": "code",
   "execution_count": 40,
   "metadata": {},
   "outputs": [
    {
     "name": "stdout",
     "output_type": "stream",
     "text": [
      "Running rem_hydrogen.\n",
      "No residues with Hydrogen atoms found\n"
     ]
    }
   ],
   "source": [
    "# Detects and removes hydrogen atoms\n",
    "st_c.rem_hydrogen()"
   ]
  },
  {
   "cell_type": "code",
   "execution_count": 41,
   "metadata": {},
   "outputs": [
    {
     "name": "stdout",
     "output_type": "stream",
     "text": [
      "Running water.\n",
      "Detected 80 Water molecules\n",
      "Running water. Options: yes\n",
      "Detected 80 Water molecules\n"
     ]
    },
    {
     "name": "stdout",
     "output_type": "stream",
     "text": [
      "Canonical sequence for model 0:\n",
      "Removed 80 Water molecules\n"
     ]
    }
   ],
   "source": [
    "# Detects and removes water molecules\n",
    "st_c.water()\n",
    "st_c.water(\"yes\")"
   ]
  },
  {
   "cell_type": "code",
   "execution_count": 42,
   "metadata": {},
   "outputs": [
    {
     "name": "stdout",
     "output_type": "stream",
     "text": [
      "Running amide.\n",
      "Found 7 unusual contact(s) involving amide atoms\n",
      " LYS A31.NZ   GLN E493.NE2    2.926 A\n",
      " GLN A42.NE2  GLN E498.NE2    2.927 A\n",
      " ASN A103.OD1 ASN A194.OD1    2.807 A\n",
      " ASN A134.OD1 GLU A140.OE2    2.785 A\n",
      " ASN A134.ND2 ASN A137.N      3.082 A\n",
      " GLU A150.O   ASN A154.OD1    2.895 A\n",
      " ARG E357.NH1 ASN E394.ND2    2.963 A\n",
      "Running amide. Options: all\n",
      "Found 7 unusual contact(s) involving amide atoms\n",
      " LYS A31.NZ   GLN E493.NE2    2.926 A\n",
      " GLN A42.NE2  GLN E498.NE2    2.927 A\n",
      " ASN A103.OD1 ASN A194.OD1    2.807 A\n",
      " ASN A134.OD1 GLU A140.OE2    2.785 A\n",
      " ASN A134.ND2 ASN A137.N      3.082 A\n",
      " GLU A150.O   ASN A154.OD1    2.895 A\n",
      " ARG E357.NH1 ASN E394.ND2    2.963 A\n",
      "Amide residues fixed all (8)\n",
      "Rechecking\n",
      "Found 4 unusual contact(s) involving amide atoms\n",
      " GLN A42.OE1  GLN E498.OE1    2.927 A\n",
      " ASN A103.ND2 ASN A194.ND2    2.807 A\n",
      " ARG E357.NH1 ASN E394.ND2    3.022 A\n",
      " ASN E394.OD1 GLU E516.OE2    2.850 A\n",
      "Running amide. Options: A42,A103\n",
      "Found 4 unusual contact(s) involving amide atoms\n",
      " GLN A42.OE1  GLN E498.OE1    2.927 A\n",
      " ASN A103.ND2 ASN A194.ND2    2.807 A\n",
      " ARG E357.NH1 ASN E394.ND2    3.022 A\n",
      " ASN E394.OD1 GLU E516.OE2    2.850 A\n",
      "Amide residues fixed A42,A103 (2)\n",
      "Rechecking\n",
      "Found 2 unusual contact(s) involving amide atoms\n",
      " ARG E357.NH1 ASN E394.ND2    3.022 A\n",
      " ASN E394.OD1 GLU E516.OE2    2.850 A\n",
      "Running amide. Options: E394\n",
      "Found 2 unusual contact(s) involving amide atoms\n",
      " ARG E357.NH1 ASN E394.ND2    3.022 A\n",
      " ASN E394.OD1 GLU E516.OE2    2.850 A\n",
      "Amide residues fixed E394 (1)\n",
      "Rechecking\n",
      "Found 1 unusual contact(s) involving amide atoms\n",
      " ARG E357.NH1 ASN E394.ND2    2.963 A\n"
     ]
    }
   ],
   "source": [
    "# Suggests possible fixes of terminal atoms in Asn and Gln residues\n",
    "st_c.amide()\n",
    "st_c.amide('all')\n",
    "st_c.amide('A42,A103')\n",
    "st_c.amide('E394')"
   ]
  },
  {
   "cell_type": "code",
   "execution_count": 43,
   "metadata": {},
   "outputs": [
    {
     "name": "stdout",
     "output_type": "stream",
     "text": [
      "Running chiral.\n",
      "Found no residues with incorrect side-chain chirality\n"
     ]
    }
   ],
   "source": [
    "# Fix poossible incorrections of Thr and Ile chiral sidechains\n",
    "st_c.chiral()"
   ]
  },
  {
   "cell_type": "code",
   "execution_count": 44,
   "metadata": {},
   "outputs": [
    {
     "name": "stdout",
     "output_type": "stream",
     "text": [
      "Running backbone.\n",
      "Found 2 Residues with missing backbone atoms\n",
      " ASP A615   OXT\n",
      " GLY E526   OXT\n",
      "No backbone breaks\n",
      "No unexpected backbone links\n",
      "Running backbone. Options: --fix_atoms All --fix_chain none --add_caps none\n",
      "Found 2 Residues with missing backbone atoms\n",
      " ASP A615   OXT\n",
      " GLY E526   OXT\n",
      "No backbone breaks\n",
      "No unexpected backbone links\n",
      "Capping terminal ends\n",
      "True terminal residues: A19,A615,E333,E526\n",
      "No caps added\n",
      "Fixing missing backbone atoms\n",
      "Adding missing backbone atoms\n",
      "ASP A615\n",
      "  Adding new atom OXT\n",
      "GLY E526\n",
      "  Adding new atom OXT\n",
      "Fixed 2 backbone atom(s)\n",
      "Checking for steric clashes\n",
      "No severe clashes detected\n",
      "No apolar clashes detected\n",
      "No polar_acceptor clashes detected\n",
      "No polar_donor clashes detected\n",
      "No positive clashes detected\n",
      "No negative clashes detected\n"
     ]
    }
   ],
   "source": [
    "# Detects and fixes several problems with the backbone\n",
    "st_c.backbone()\n",
    "st_c.backbone('--fix_atoms All --fix_chain none --add_caps none')"
   ]
  },
  {
   "cell_type": "code",
   "execution_count": 45,
   "metadata": {},
   "outputs": [
    {
     "name": "stdout",
     "output_type": "stream",
     "text": [
      "Running fixside.\n",
      "Found no residues with missing or unknown side chain atoms\n"
     ]
    }
   ],
   "source": [
    "# Detects and re-built missing protein side chains\n",
    "st_c.fixside()"
   ]
  },
  {
   "cell_type": "code",
   "execution_count": 46,
   "metadata": {},
   "outputs": [
    {
     "name": "stdout",
     "output_type": "stream",
     "text": [
      "Running getss.\n",
      "Detected 7 Possible SS Bonds\n",
      " CYS A133.SG  CYS A141.SG     4.237\n",
      " CYS A344.SG  CYS A361.SG     4.159\n",
      " CYS A530.SG  CYS A542.SG     4.095\n",
      " CYS E336.SG  CYS E361.SG     4.152\n",
      " CYS E379.SG  CYS E432.SG     4.177\n",
      " CYS E391.SG  CYS E525.SG     4.191\n",
      " CYS E480.SG  CYS E488.SG     4.269\n",
      "Running getss. Options: all\n",
      "Detected 7 Possible SS Bonds\n",
      " CYS A133.SG  CYS A141.SG     4.237\n",
      " CYS A344.SG  CYS A361.SG     4.159\n",
      " CYS A530.SG  CYS A542.SG     4.095\n",
      " CYS E336.SG  CYS E361.SG     4.152\n",
      " CYS E379.SG  CYS E432.SG     4.177\n",
      " CYS E391.SG  CYS E525.SG     4.191\n",
      " CYS E480.SG  CYS E488.SG     4.269\n"
     ]
    },
    {
     "name": "stdout",
     "output_type": "stream",
     "text": [
      "Canonical sequence for model 0:\n"
     ]
    }
   ],
   "source": [
    "# Detects possible -S-S- bonds based on distance criteria\n",
    "st_c.getss()\n",
    "st_c.getss('all')"
   ]
  },
  {
   "cell_type": "code",
   "execution_count": 47,
   "metadata": {},
   "outputs": [
    {
     "name": "stdout",
     "output_type": "stream",
     "text": [
      "Running add_hydrogen.\n",
      "Found 226 Residues requiring selection on adding H atoms\n",
      "Running add_hydrogen. Options: auto\n",
      "Found 226 Residues requiring selection on adding H atoms\n",
      "WARNING: fixing side chains, override with --no_fix_side\n",
      "Running fixside. Options: --fix all\n",
      "Found no residues with missing or unknown side chain atoms\n",
      "Selection: auto\n",
      "Replacing HIS A34 by HIE\n",
      "Replacing HIS A195 by HIE\n",
      "Replacing HIS A228 by HIE\n",
      "Replacing HIS A239 by HIE\n",
      "Replacing HIS A241 by HIE\n",
      "Replacing HIS A265 by HIE\n",
      "Replacing HIS A345 by HIE\n",
      "Replacing HIS A373 by HIE\n",
      "Replacing HIS A374 by HIE\n",
      "Replacing HIS A378 by HIE\n",
      "Replacing HIS A401 by HIE\n",
      "Replacing HIS A417 by HIE\n",
      "Replacing HIS A493 by HIE\n",
      "Replacing HIS A505 by HIE\n",
      "Replacing HIS A535 by HIE\n",
      "Replacing HIS A540 by HIE\n",
      "Replacing HIS E519 by HIE\n"
     ]
    }
   ],
   "source": [
    "# Add hydrogen atoms\n",
    "st_c.add_hydrogen()\n",
    "st_c.add_hydrogen('auto')"
   ]
  },
  {
   "cell_type": "code",
   "execution_count": 48,
   "metadata": {},
   "outputs": [
    {
     "name": "stdout",
     "output_type": "stream",
     "text": [
      "Running clashes.\n",
      "No severe clashes detected\n",
      "4 Steric apolar clashes detected\n",
      " HIE A34.CD2  TYR E453.OH     2.860 A\n",
      " ASN A121.O   THR A125.CG2    2.890 A\n",
      " LEU A333.C   MET A360.O      2.881 A\n",
      " TYR E380.O   THR E430.C      2.758 A\n",
      "5 Steric polar_acceptor clashes detected\n",
      " MET A152.O   GLY A268.O      3.063 A\n",
      " LEU A333.O   MET A360.O      2.881 A\n",
      " TYR E351.O   ASP E467.O      3.074 A\n",
      " TYR E380.O   THR E430.O      2.728 A\n",
      " GLY E485.O   CYX E488.O      3.046 A\n",
      "1 Steric polar_donor clashes detected\n",
      " ARG E357.NH1 ASN E394.ND2    2.963 A\n",
      "No positive clashes detected\n",
      "No negative clashes detected\n"
     ]
    }
   ],
   "source": [
    "# Detects steric clashes based on distance criteria\n",
    "st_c.clashes()"
   ]
  },
  {
   "cell_type": "code",
   "execution_count": 49,
   "metadata": {},
   "outputs": [
    {
     "name": "stdout",
     "output_type": "stream",
     "text": [
      "Running models.\n",
      "Detected 1 Model(s)\n",
      "Found Single model\n",
      "Running chains.\n",
      "Detected 2 Chain(s)\n",
      " A: Protein\n",
      " E: Protein\n",
      "Running inscodes.\n",
      "Found no residues with insertion codes\n",
      "Running altloc.\n",
      "Detected no residues with alternative location labels\n",
      "Running rem_hydrogen.\n",
      "Detected 791 Residues containing H atoms\n",
      "Running add_hydrogen.\n",
      "Found 209 Residues requiring selection on adding H atoms\n",
      "Running water.\n",
      "No water molecules found\n",
      "Running metals.\n",
      "No metal ions found\n",
      "Running ligands.\n",
      "No ligands found\n",
      "Running getss.\n",
      "Detected 7 Possible SS Bonds\n",
      " CYX A133.SG  CYX A141.SG     4.237\n",
      " CYX A344.SG  CYX A361.SG     4.159\n",
      " CYX A530.SG  CYX A542.SG     4.095\n",
      " CYX E336.SG  CYX E361.SG     4.152\n",
      " CYX E379.SG  CYX E432.SG     4.177\n",
      " CYX E391.SG  CYX E525.SG     4.191\n",
      " CYX E480.SG  CYX E488.SG     4.269\n",
      "Running amide.\n",
      "Found 1 unusual contact(s) involving amide atoms\n",
      " ARG E357.NH1 ASN E394.ND2    2.963 A\n",
      "Running chiral.\n",
      "Found no residues with incorrect side-chain chirality\n",
      "Running chiral_bck.\n",
      "Found no residues with incorrect backbone chirality\n",
      "Running fixside.\n",
      "Warning: unknown residue NSER\n",
      "Warning: unknown residue NTHR\n",
      "Found no residues with missing or unknown side chain atoms\n",
      "Running backbone.\n",
      "Found No residues with missing backbone atoms\n",
      "No backbone breaks\n",
      "No unexpected backbone links\n",
      "Running cistransbck.\n",
      "Found 1 cis peptide bonds\n",
      "GLU A145   PRO A146   Dihedral:   -4.808\n",
      "No trans peptide bonds with unusual omega dihedrals found\n",
      "Running clashes.\n",
      "No severe clashes detected\n",
      "4 Steric apolar clashes detected\n",
      " HIE A34.CD2  TYR E453.OH     2.860 A\n",
      " ASN A121.O   THR A125.CG2    2.890 A\n",
      " LEU A333.C   MET A360.O      2.881 A\n",
      " TYR E380.O   THR E430.C      2.758 A\n",
      "5 Steric polar_acceptor clashes detected\n",
      " MET A152.O   GLY A268.O      3.063 A\n",
      " LEU A333.O   MET A360.O      2.881 A\n",
      " TYR E351.O   ASP E467.O      3.074 A\n",
      " TYR E380.O   THR E430.O      2.728 A\n",
      " GLY E485.O   CYX E488.O      3.046 A\n",
      "1 Steric polar_donor clashes detected\n",
      " ARG E357.NH1 ASN E394.ND2    2.963 A\n",
      "No positive clashes detected\n",
      "No negative clashes detected\n",
      "Running sequences.\n",
      "Canonical sequence\n",
      ">can_sq_A canonical sequence chain A\n",
      "STIEEQAKTFLDKFNHEAEDLFYQSSLASWNYNTNITEENVQNMNNAGDKWSAFLKEQST\n",
      "LAQMYPLQEIQNLTVKLQLQALQQNGSSVLSEDKSKRLNTILNTMSTIYSTGKVCNPDNP\n",
      "QECLLLEPGLNEIMANSLDYNERLWAWESWRSEVGKQLRPLYEEYVVLKNEMARANHYED\n",
      "YGDYWRGDYEVNGVDGYDYSRGQLIEDVEHTFEEIKPLYEHLHAYVRAKLMNAYPSYISP\n",
      "IGCLPAHLLGDMWGRFWTNLYSLTVPFGQKPNIDVTDAMVDQAWDAQRIFKEAEKFFVSV\n",
      "GLPNMTQGFWENSMLTDPGNVQKAVCHPTAWDLGKGDFRILMCTKVTMDDFLTAHHEMGH\n",
      "IQYDMAYAAQPFLLRNGANEGFHEAVGEIMSLSAATPKHLKSIGLLSPDFQEDNETEINF\n",
      "LLKQALTIVGTLPFTYMLEKWRWMVFKGEIPKDQWMKKWWEMKREIVGVVEPVPHDETYC\n",
      "DPASLFHVSNDYSFIRYYTRTLYQFQFQEALCQAAKHEGPLHKCDISNSTEAGQKLFNML\n",
      "RLGKSEPWTLALENVVGAKNMNVRPLLNYFEPLFTWLKDQNKNSFVGWSTDWSPYADHHH\n",
      "HHH\n",
      ">can_sq_E canonical sequence chain E\n",
      "RVQPTESIVRFPNITNLCPFGEVFNATRFASVYAWNRKRISNCVADYSVLYNSASFSTFK\n",
      "CYGVSPTKLNDLCFTNVYADSFVIRGDEVRQIAPGQTGKIADYNYKLPDDFTGCVIAWNS\n",
      "NNLDSKVGGNYNYLYRLFRKSNLKPFERDISTEIYQAGSTPCNGVEGFNCYFPLQSYGFQ\n",
      "PTNGVGYQPYRVVVLSFELLHAPATVCGPKKSTNLVKNKCVNFHHHHHH\n",
      "\n",
      "Structure sequence\n",
      ">pdb_sq_A Frags: 19-615\n",
      "STIEEQAKTFLDKFNHEAEDLFYQSSLASWNYNTNITEENVQNMNNAGDKWSAFLKEQST\n",
      "LAQMYPLQEIQNLTVKLQLQALQQNGSSVLSEDKSKRLNTILNTMSTIYSTGKVCNPDNP\n",
      "QECLLLEPGLNEIMANSLDYNERLWAWESWRSEVGKQLRPLYEEYVVLKNEMARANHYED\n",
      "YGDYWRGDYEVNGVDGYDYSRGQLIEDVEHTFEEIKPLYEHLHAYVRAKLMNAYPSYISP\n",
      "IGCLPAHLLGDMWGRFWTNLYSLTVPFGQKPNIDVTDAMVDQAWDAQRIFKEAEKFFVSV\n",
      "GLPNMTQGFWENSMLTDPGNVQKAVCHPTAWDLGKGDFRILMCTKVTMDDFLTAHHEMGH\n",
      "IQYDMAYAAQPFLLRNGANEGFHEAVGEIMSLSAATPKHLKSIGLLSPDFQEDNETEINF\n",
      "LLKQALTIVGTLPFTYMLEKWRWMVFKGEIPKDQWMKKWWEMKREIVGVVEPVPHDETYC\n",
      "DPASLFHVSNDYSFIRYYTRTLYQFQFQEALCQAAKHEGPLHKCDISNSTEAGQKLFNML\n",
      "RLGKSEPWTLALENVVGAKNMNVRPLLNYFEPLFTWLKDQNKNSFVGWSTDWSPYAD---\n",
      "---\n",
      ">pdb_sq_E Frags: 333-526\n",
      "--------------TNLCPFGEVFNATRFASVYAWNRKRISNCVADYSVLYNSASFSTFK\n",
      "CYGVSPTKLNDLCFTNVYADSFVIRGDEVRQIAPGQTGKIADYNYKLPDDFTGCVIAWNS\n",
      "NNLDSKVGGNYNYLYRLFRKSNLKPFERDISTEIYQAGSTPCNGVEGFNCYFPLQSYGFQ\n",
      "PTNGVGYQPYRVVVLSFELLHAPATVCG---------------------\n",
      "\n"
     ]
    }
   ],
   "source": [
    "# Complete check\n",
    "st_c.checkall()"
   ]
  },
  {
   "cell_type": "code",
   "execution_count": 50,
   "metadata": {},
   "outputs": [
    {
     "data": {
      "text/plain": [
       "'//home/jancarreras/Desktop/BIOINFO/2n/Biophysics/project/6m0j_fixed.pdb'"
      ]
     },
     "execution_count": 50,
     "metadata": {},
     "output_type": "execute_result"
    }
   ],
   "source": [
    "st_c._save_structure(args['output_structure_path'])"
   ]
  },
  {
   "cell_type": "code",
   "execution_count": 51,
   "metadata": {},
   "outputs": [
    {
     "name": "stdout",
     "output_type": "stream",
     "text": [
      "Running rem_hydrogen. Options: yes\n",
      "Detected 791 Residues containing H atoms\n",
      "Hydrogen atoms removed from 791 residues\n"
     ]
    }
   ],
   "source": [
    "st_c.rem_hydrogen('yes')"
   ]
  },
  {
   "cell_type": "code",
   "execution_count": 52,
   "metadata": {},
   "outputs": [
    {
     "name": "stdout",
     "output_type": "stream",
     "text": [
      "================================================================================\n",
      "=                   BioBB structure checking utility v3.13.4                   =\n",
      "=            P. Andrio, A. Hospital, G. Bayarri, J.L. Gelpi 2018-23            =\n",
      "================================================================================\n",
      "\n",
      "Warning: sequence features may not be available, use --sequence for  external fasta input\n",
      "Structure //home/jancarreras/Desktop/BIOINFO/2n/Biophysics/project/6m0j_fixed.pdb loaded\n",
      " PDB id:  \n",
      " Title: \n",
      " Experimental method: unknown\n",
      " Resolution (A): N.A.\n",
      "\n",
      " Num. models: 1\n",
      " Num. chains: 2 (A: Protein, E: Protein)\n",
      " Num. residues:  791\n",
      " Num. residues with ins. codes:  0\n",
      " Num. residues with H atoms: 791 (total 6102 H atoms)\n",
      " Num. HETATM residues:  0\n",
      " Num. ligands or modified residues:  0\n",
      " Num. water mol.:  0\n",
      " Num. atoms:  12510\n",
      "Running add_hydrogen. Options: --add_charges --add_mode auto\n",
      "Found 209 Residues requiring selection on adding H atoms\n"
     ]
    },
    {
     "name": "stderr",
     "output_type": "stream",
     "text": [
      "usage: add_hydrogen [-h] [--add_mode ADD_MODE] [--pH PH] [--list LIST]\n",
      "                    [--no_fix_side] [--keep_h] [--add_charges ADD_CHARGES]\n",
      "add_hydrogen: error: argument --add_charges: expected one argument\n"
     ]
    },
    {
     "data": {
      "text/plain": [
       "512"
      ]
     },
     "execution_count": 52,
     "metadata": {},
     "output_type": "execute_result"
    }
   ],
   "source": [
    "#st_c.add_hydrogen('--add_charges --add_mode auto')\n",
    "#Alternative way calling through command line\n",
    "import os\n",
    "os.system('check_structure -i ' + args['output_structure_path'] + ' -o ' + args['output_structure_path_charges'] + ' add_hydrogen --add_charges --add_mode auto')"
   ]
  },
  {
   "cell_type": "code",
   "execution_count": 53,
   "metadata": {},
   "outputs": [],
   "source": [
    "#st_c._save_structure(args['output_structure_path_charges'])"
   ]
  },
  {
   "cell_type": "code",
   "execution_count": 54,
   "metadata": {},
   "outputs": [],
   "source": [
    "#st_c.revert_changes()"
   ]
  },
  {
   "cell_type": "markdown",
   "metadata": {},
   "source": [
    "# STEP 1"
   ]
  },
  {
   "cell_type": "code",
   "execution_count": null,
   "metadata": {},
   "outputs": [],
   "source": []
  },
  {
   "cell_type": "markdown",
   "metadata": {},
   "source": [
    "# STEP 2"
   ]
  },
  {
   "cell_type": "code",
   "execution_count": 55,
   "metadata": {},
   "outputs": [],
   "source": [
    "import argparse, sys, os, math\n",
    "\n",
    "from Bio.PDB.PDBParser import PDBParser\n",
    "from Bio.PDB.NACCESS import NACCESS_atomic\n",
    "from Bio.PDB.NeighborSearch import NeighborSearch\n",
    "from Bio.PDB.PDBIO import PDBIO, Select"
   ]
  },
  {
   "cell_type": "code",
   "execution_count": 56,
   "metadata": {},
   "outputs": [],
   "source": [
    "# Functions needed to import the parameters for VanderWaals or the residue library\n",
    "class ResiduesDataLib():\n",
    "    def __init__(self, fname):\n",
    "        self.residue_data = {}\n",
    "        try:\n",
    "            fh = open(fname, \"r\")\n",
    "        except OSError:\n",
    "            print(\"#ERROR while loading library file (\", fname, \")\")\n",
    "            sys.exit(2)\n",
    "        for line in fh:\n",
    "            if line[0] == '#':\n",
    "                continue\n",
    "            data = line.split()\n",
    "            r = Residue(data)\n",
    "            self.residue_data[r.id] = r\n",
    "        self.nres = len(self.residue_data)\n",
    "\n",
    "    def get_params(self, resid, atid):\n",
    "        atom_id = resid + ':' + atid\n",
    "        if atom_id in self.residue_data:\n",
    "            return self.residue_data[atom_id]\n",
    "        else:\n",
    "            print(\"WARNING: atom not found in library (\", atom_id, ')')\n",
    "            return None\n",
    "\n",
    "class Residue():\n",
    "    def __init__(self,data):\n",
    "        self.id     = data[0]+':'+data[1]\n",
    "        self.at_type = data[2]\n",
    "        self.charge  = float(data[3])\n",
    "        \n",
    "class AtomType():\n",
    "    def __init__(self, data):\n",
    "        self.id   = data[0]\n",
    "        self.eps  = float(data[1])\n",
    "        self.sig  = float(data[2])\n",
    "        self.mass = float(data[3])\n",
    "        self.fsrf = float(data[4])\n",
    "        self.rvdw = self.sig * 0.5612\n",
    "        \n",
    "class VdwParamset(): #extracted from GELPI's github\n",
    "    #parameters for the VdW\n",
    "    def __init__ (self, file_name):\n",
    "        self.at_types = {}\n",
    "        try:\n",
    "            fh = open(file_name, \"r\")\n",
    "        except OSError:\n",
    "            print (\"#ERROR while loading parameter file (\", file_name, \")\")\n",
    "            sys.exit(2)\n",
    "        for line in fh:\n",
    "            if line[0] == '#':\n",
    "                continue\n",
    "            data = line.split()\n",
    "            self.at_types[data[0]] = AtomType(data)\n",
    "        self.ntypes = len(self.at_types)\n",
    "        fh.close()"
   ]
  },
  {
   "cell_type": "code",
   "execution_count": 57,
   "metadata": {},
   "outputs": [],
   "source": [
    "# Loading residue library from aaLib.lib\n",
    "residue_library = ResiduesDataLib('/home/jancarreras/Desktop/BIOINFO/2n/Biophysics/project/aaLib.lib')"
   ]
  },
  {
   "cell_type": "code",
   "execution_count": 58,
   "metadata": {},
   "outputs": [],
   "source": [
    "# Loading VdW parameters\n",
    "ff_params = VdwParamset('/home/jancarreras/Desktop/BIOINFO/2n/Biophysics/project/vdwprm.txt')"
   ]
  },
  {
   "cell_type": "code",
   "execution_count": 59,
   "metadata": {},
   "outputs": [],
   "source": [
    "# Set the pdb_path and load the structure\n",
    "pdb_path = \"/home/jancarreras/Desktop/BIOINFO/2n/Biophysics/project/6m0j_fixed.pdb\"\n",
    "# Setting the Bio.PDB.Parser object\n",
    "parser = PDBParser(PERMISSIVE=1)\n",
    "# Loading structure\n",
    "st = parser.get_structure('STR', pdb_path)"
   ]
  },
  {
   "cell_type": "code",
   "execution_count": 60,
   "metadata": {},
   "outputs": [],
   "source": [
    "# Possible Atom names that correspond to Ala atoms\"\n",
    "ala_atoms = {'N', 'H', 'CA', 'HA', 'C', 'O', 'CB', 'HB', 'HB1', 'HB2', 'HB3', 'HA1', 'HA2', 'HA3'}"
   ]
  },
  {
   "cell_type": "code",
   "execution_count": 61,
   "metadata": {},
   "outputs": [],
   "source": [
    "def residue_id(res):\n",
    "    '''Returns readable residue id'''\n",
    "    return '{} {}{}'.format(res.get_resname(), res.get_parent().id, res.id[1])\n",
    "\n",
    "def atom_id(at):\n",
    "    '''Returns readable atom id'''\n",
    "    return '{}.{}'.format(residue_id(at.get_parent()), at.id)"
   ]
  },
  {
   "cell_type": "code",
   "execution_count": 62,
   "metadata": {},
   "outputs": [],
   "source": [
    "# Calculate electrostatic interactions\n",
    "def MH_diel(r):\n",
    "    '''Mehler-Solmajer dielectric'''\n",
    "    return 86.9525 / (1 - 7.7839 * math.exp(-0.3153 * r)) - 8.5525\n",
    "\n",
    "def elec_int(at1, at2, r):\n",
    "    '''Electrostatic interaction energy between two atoms at r distance'''\n",
    "    return 332.16 * at1.xtra['charge'] * at2.xtra['charge'] / MH_diel(r) / r"
   ]
  },
  {
   "cell_type": "code",
   "execution_count": 63,
   "metadata": {},
   "outputs": [],
   "source": [
    "# Calculate Van der Waals interactions\n",
    "def vdw_int(at1, at2, r):\n",
    "    '''Vdw interaction energy between two atoms'''\n",
    "    eps12 = math.sqrt(at1.xtra['vdw'].eps * at2.xtra['vdw'].eps)\n",
    "    sig12_2 = at1.xtra['vdw'].sig * at2.xtra['vdw'].sig\n",
    "    return 4 * eps12 * (sig12_2**6/r**12 - sig12_2**3/r**6)"
   ]
  },
  {
   "cell_type": "code",
   "execution_count": 64,
   "metadata": {},
   "outputs": [],
   "source": [
    "# Calculate the solvation\n",
    "def calc_solvation(st, res):\n",
    "    '''Solvation energy based on ASA'''\n",
    "    solv = 0.\n",
    "    solv_ala = 0.\n",
    "    for at in res.get_atoms():\n",
    "        if 'EXP_NACCESS' not in at.xtra:\n",
    "            continue\n",
    "        s = float(at.xtra['EXP_NACCESS'])* at.xtra['vdw'].fsrf\n",
    "        solv += s\n",
    "        if at.id in ala_atoms:\n",
    "            solv_ala += s\n",
    "    return solv, solv_ala"
   ]
  },
  {
   "cell_type": "code",
   "execution_count": 65,
   "metadata": {},
   "outputs": [],
   "source": [
    "# Add atom parameters\n",
    "def add_atom_parameters(st, res_lib, ff_params):\n",
    "    ''' Adds parameters from libraries to atom .xtra field\n",
    "        For not recognized atoms, issues a warning and put default parameters\n",
    "    '''\n",
    "    for at in st.get_atoms():\n",
    "        resname = at.get_parent().get_resname()\n",
    "        params = res_lib.get_params(resname, at.id)\n",
    "        if not params:\n",
    "            print(\"WARNING: residue/atom pair not in library (\"+atom_id(at) + ')')\n",
    "            at.xtra['atom_type'] = at.element\n",
    "            at.xtra['charge'] = 0\n",
    "        else:\n",
    "            at.xtra['atom_type'] = params.at_type\n",
    "            at.xtra['charge'] = params.charge\n",
    "        at.xtra['vdw'] = ff_params.at_types[at.xtra['atom_type']]"
   ]
  },
  {
   "cell_type": "code",
   "execution_count": 66,
   "metadata": {},
   "outputs": [
    {
     "name": "stdout",
     "output_type": "stream",
     "text": [
      "WARNING: atom not found in library ( SER:H1 )\n",
      "WARNING: residue/atom pair not in library (SER A19.H1)\n",
      "WARNING: atom not found in library ( SER:H2 )\n",
      "WARNING: residue/atom pair not in library (SER A19.H2)\n",
      "WARNING: atom not found in library ( SER:H3 )\n",
      "WARNING: residue/atom pair not in library (SER A19.H3)\n",
      "WARNING: atom not found in library ( ASP:OXT )\n",
      "WARNING: residue/atom pair not in library (ASP A615.OXT)\n",
      "WARNING: atom not found in library ( THR:H1 )\n",
      "WARNING: residue/atom pair not in library (THR E333.H1)\n",
      "WARNING: atom not found in library ( THR:H2 )\n",
      "WARNING: residue/atom pair not in library (THR E333.H2)\n",
      "WARNING: atom not found in library ( THR:H3 )\n",
      "WARNING: residue/atom pair not in library (THR E333.H3)\n",
      "WARNING: atom not found in library ( GLY:OXT )\n",
      "WARNING: residue/atom pair not in library (GLY E526.OXT)\n"
     ]
    }
   ],
   "source": [
    "add_atom_parameters(st, residue_library, ff_params)"
   ]
  },
  {
   "cell_type": "code",
   "execution_count": 67,
   "metadata": {},
   "outputs": [],
   "source": [
    "# Get the interface residues which are below a given distance.\n",
    "def get_interface(st, dist):\n",
    "    ''' Detects interface residues within a distance(dist)\n",
    "        Assumes two chains, i.e. a unique interface set per chain.\n",
    "    '''\n",
    "    select_ats = []\n",
    "    for at in st.get_atoms():\n",
    "        # Skip Hydrogens to reduce time\n",
    "        if at.element != 'H':\n",
    "            select_ats.append(at)\n",
    "    nbsearch = NeighborSearch(select_ats)\n",
    "    interface = {}\n",
    "    # Sets are more efficient than lists. Use sets when order is not relevant\n",
    "    for ch in st[0]:\n",
    "        interface[ch.id] = set()\n",
    "\n",
    "    for at1, at2 in nbsearch.search_all(dist):\n",
    "        #Only different chains\n",
    "        res1 = at1.get_parent()\n",
    "        ch1 = res1.get_parent()\n",
    "        res2 = at2.get_parent()\n",
    "        ch2 = res2.get_parent()\n",
    "        if ch1 != ch2:\n",
    "            interface[ch1.id].add(res1)\n",
    "            interface[ch2.id].add(res2)\n",
    "    return interface"
   ]
  },
  {
   "cell_type": "code",
   "execution_count": 68,
   "metadata": {},
   "outputs": [
    {
     "data": {
      "text/plain": [
       "{'A': {<Residue SER het=  resseq=19 icode= >,\n",
       "  <Residue GLN het=  resseq=24 icode= >,\n",
       "  <Residue THR het=  resseq=27 icode= >,\n",
       "  <Residue PHE het=  resseq=28 icode= >,\n",
       "  <Residue ASP het=  resseq=30 icode= >,\n",
       "  <Residue LYS het=  resseq=31 icode= >,\n",
       "  <Residue HIE het=  resseq=34 icode= >,\n",
       "  <Residue GLU het=  resseq=35 icode= >,\n",
       "  <Residue GLU het=  resseq=37 icode= >,\n",
       "  <Residue ASP het=  resseq=38 icode= >,\n",
       "  <Residue TYR het=  resseq=41 icode= >,\n",
       "  <Residue GLN het=  resseq=42 icode= >,\n",
       "  <Residue LEU het=  resseq=45 icode= >,\n",
       "  <Residue LEU het=  resseq=79 icode= >,\n",
       "  <Residue MET het=  resseq=82 icode= >,\n",
       "  <Residue TYR het=  resseq=83 icode= >,\n",
       "  <Residue ASN het=  resseq=330 icode= >,\n",
       "  <Residue LYS het=  resseq=353 icode= >,\n",
       "  <Residue GLY het=  resseq=354 icode= >,\n",
       "  <Residue ASP het=  resseq=355 icode= >,\n",
       "  <Residue ARG het=  resseq=357 icode= >,\n",
       "  <Residue ARG het=  resseq=393 icode= >},\n",
       " 'E': {<Residue LYS het=  resseq=417 icode= >,\n",
       "  <Residue GLY het=  resseq=446 icode= >,\n",
       "  <Residue GLY het=  resseq=447 icode= >,\n",
       "  <Residue TYR het=  resseq=449 icode= >,\n",
       "  <Residue TYR het=  resseq=453 icode= >,\n",
       "  <Residue LEU het=  resseq=455 icode= >,\n",
       "  <Residue PHE het=  resseq=456 icode= >,\n",
       "  <Residue TYR het=  resseq=473 icode= >,\n",
       "  <Residue ALA het=  resseq=475 icode= >,\n",
       "  <Residue GLY het=  resseq=476 icode= >,\n",
       "  <Residue GLU het=  resseq=484 icode= >,\n",
       "  <Residue PHE het=  resseq=486 icode= >,\n",
       "  <Residue ASN het=  resseq=487 icode= >,\n",
       "  <Residue TYR het=  resseq=489 icode= >,\n",
       "  <Residue GLN het=  resseq=493 icode= >,\n",
       "  <Residue GLY het=  resseq=496 icode= >,\n",
       "  <Residue GLN het=  resseq=498 icode= >,\n",
       "  <Residue THR het=  resseq=500 icode= >,\n",
       "  <Residue ASN het=  resseq=501 icode= >,\n",
       "  <Residue GLY het=  resseq=502 icode= >,\n",
       "  <Residue TYR het=  resseq=505 icode= >}}"
      ]
     },
     "execution_count": 68,
     "metadata": {},
     "output_type": "execute_result"
    }
   ],
   "source": [
    "get_interface(st, 5)"
   ]
  },
  {
   "cell_type": "code",
   "execution_count": 69,
   "metadata": {},
   "outputs": [],
   "source": [
    "def calc_int_energies(st, res):\n",
    "    '''Returns interaction energies (residue against other chains)\n",
    "        for all atoms and for Ala atoms\n",
    "    '''\n",
    "    elec = 0.\n",
    "    elec_ala = 0.\n",
    "    vdw = 0.\n",
    "    vdw_ala = 0.\n",
    "\n",
    "    for at1 in res.get_atoms():\n",
    "        for at2 in st.get_atoms():\n",
    "        # skip same chain atom pairs\n",
    "            if at2.get_parent().get_parent() != res.get_parent():\n",
    "                r = at1 - at2\n",
    "                e = elec_int(at1, at2, r)\n",
    "                elec += e\n",
    "                if at1.id in ala_atoms: #GLY are included implicitly\n",
    "                    elec_ala += e\n",
    "                e = vdw_int(at1, at2, r)\n",
    "                vdw += e\n",
    "                if at1.id in ala_atoms: #GLY are included implicitly\n",
    "                    vdw_ala += e\n",
    "    return elec, elec_ala, vdw, vdw_ala"
   ]
  },
  {
   "cell_type": "markdown",
   "metadata": {},
   "source": [
    "Calculate the interaction energies for residues on the interface."
   ]
  },
  {
   "cell_type": "code",
   "execution_count": 70,
   "metadata": {},
   "outputs": [
    {
     "name": "stdout",
     "output_type": "stream",
     "text": [
      "WARNING: atom not found in library ( SER:H1 )\n",
      "WARNING: residue/atom pair not in library (SER A19.H1)\n",
      "WARNING: atom not found in library ( SER:H2 )\n",
      "WARNING: residue/atom pair not in library (SER A19.H2)\n",
      "WARNING: atom not found in library ( SER:H3 )\n",
      "WARNING: residue/atom pair not in library (SER A19.H3)\n",
      "WARNING: atom not found in library ( ASP:OXT )\n",
      "WARNING: residue/atom pair not in library (ASP A615.OXT)\n",
      "WARNING: atom not found in library ( THR:H1 )\n",
      "WARNING: residue/atom pair not in library (THR E333.H1)\n",
      "WARNING: atom not found in library ( THR:H2 )\n",
      "WARNING: residue/atom pair not in library (THR E333.H2)\n",
      "WARNING: atom not found in library ( THR:H3 )\n",
      "WARNING: residue/atom pair not in library (THR E333.H3)\n",
      "WARNING: atom not found in library ( GLY:OXT )\n",
      "WARNING: residue/atom pair not in library (GLY E526.OXT)\n"
     ]
    }
   ],
   "source": [
    "add_atom_parameters(st, residue_library, ff_params)"
   ]
  },
  {
   "cell_type": "code",
   "execution_count": 71,
   "metadata": {},
   "outputs": [],
   "source": [
    "NACCESS_BINARY = '/home/jancarreras/Desktop/BIOINFO/2n/Biophysics/project/Parameter/naccess'\n",
    "srf = NACCESS_atomic(st[0], naccess_binary=NACCESS_BINARY)"
   ]
  },
  {
   "cell_type": "code",
   "execution_count": 72,
   "metadata": {},
   "outputs": [],
   "source": [
    "io = PDBIO()\n",
    "st_chains = {}"
   ]
  },
  {
   "cell_type": "code",
   "execution_count": 73,
   "metadata": {},
   "outputs": [
    {
     "name": "stdout",
     "output_type": "stream",
     "text": [
      "WARNING: atom not found in library ( SER:H1 )\n",
      "WARNING: residue/atom pair not in library (SER A19.H1)\n",
      "WARNING: atom not found in library ( SER:H2 )\n",
      "WARNING: residue/atom pair not in library (SER A19.H2)\n",
      "WARNING: atom not found in library ( SER:H3 )\n",
      "WARNING: residue/atom pair not in library (SER A19.H3)\n",
      "WARNING: atom not found in library ( ASP:OXT )\n",
      "WARNING: residue/atom pair not in library (ASP A615.OXT)\n",
      "WARNING: atom not found in library ( THR:H1 )\n",
      "WARNING: residue/atom pair not in library (THR E333.H1)\n",
      "WARNING: atom not found in library ( THR:H2 )\n",
      "WARNING: residue/atom pair not in library (THR E333.H2)\n",
      "WARNING: atom not found in library ( THR:H3 )\n",
      "WARNING: residue/atom pair not in library (THR E333.H3)\n",
      "WARNING: atom not found in library ( GLY:OXT )\n",
      "WARNING: residue/atom pair not in library (GLY E526.OXT)\n"
     ]
    }
   ],
   "source": [
    "# Get the chains\n",
    "class SelectChain(Select):\n",
    "    def __init__(self, chid):\n",
    "        self.id = chid\n",
    "\n",
    "    def accept_chain(self, chain):\n",
    "        if chain.id == self.id:\n",
    "            return 1\n",
    "        else:\n",
    "            return 0\n",
    "        \n",
    "for ch in st[0]:\n",
    "    io.set_structure(st)\n",
    "    io.save('tmp.pdb', SelectChain(ch.id))\n",
    "    st_chains[ch.id] = parser.get_structure('stA', 'tmp.pdb')\n",
    "    add_atom_parameters(st_chains[ch.id], residue_library, ff_params)\n",
    "    srfA = NACCESS_atomic(st_chains[ch.id][0], naccess_binary=NACCESS_BINARY)\n",
    "os.remove('tmp.pdb')"
   ]
  },
  {
   "cell_type": "code",
   "execution_count": 74,
   "metadata": {},
   "outputs": [],
   "source": [
    "# Set a maximum distance (cut-off distance)\n",
    "max_dist = 5"
   ]
  },
  {
   "cell_type": "code",
   "execution_count": 75,
   "metadata": {},
   "outputs": [],
   "source": [
    "# Distance bigger than 0 gets the residues on interface.\n",
    "if max_dist > 0.:\n",
    "    interface = get_interface(st, max_dist)"
   ]
  },
  {
   "cell_type": "code",
   "execution_count": 76,
   "metadata": {},
   "outputs": [],
   "source": [
    "# Inizialize dictionaries to store energies individually for each chain\n",
    "elec = {}\n",
    "elec_ala = {}\n",
    "\n",
    "vdw = {}\n",
    "vdw_ala = {}\n",
    "\n",
    "solvAB = {}\n",
    "solvAB_ala = {}\n",
    "\n",
    "solvA = {}\n",
    "solvA_ala = {}\n",
    "\n",
    "# Inizialize conter variables to 0\n",
    "totalIntElec = 0.\n",
    "totalIntVdw = 0.\n",
    "totalSolv = 0.\n",
    "totalSolvMon = {}"
   ]
  },
  {
   "cell_type": "code",
   "execution_count": 77,
   "metadata": {},
   "outputs": [],
   "source": [
    "# Get the chains IDs, which won't be always A or B.\n",
    "# Inizialize a variable for the solvation of each chain\n",
    "chids = []\n",
    "for ch in st[0]:\n",
    "    chids.append(ch.id)\n",
    "    totalSolvMon[ch.id] = 0"
   ]
  },
  {
   "cell_type": "code",
   "execution_count": 78,
   "metadata": {},
   "outputs": [],
   "source": [
    "# Total counter for the binding energy\n",
    "total = 0."
   ]
  },
  {
   "cell_type": "code",
   "execution_count": 79,
   "metadata": {},
   "outputs": [],
   "source": [
    "# Calculate the interaction energies for residues between chains A and E\n",
    "# The output will be written in the int_energy_DG file\n",
    "with open(\"int_energy_ DG.txt\", \"a\") as result:\n",
    "    for ch in st[0]:\n",
    "        for res in ch.get_residues():\n",
    "            if max_dist > 0 and res not in interface[ch.id]:\n",
    "                continue\n",
    "\n",
    "            # Get the energies\n",
    "            elec[res], elec_ala[res], vdw[res], vdw_ala[res] = calc_int_energies(st[0], res)\n",
    "            solvAB[res], solvAB_ala[res] = calc_solvation(st[0], res)\n",
    "            solvA[res], solvA_ala[res] = calc_solvation(st_chains[ch.id], st_chains[ch.id][0][ch.id][res.id[1]])\n",
    "\n",
    "            # Add the values\n",
    "            totalIntElec += elec[res]\n",
    "            totalIntVdw += vdw[res]\n",
    "            totalSolv += solvAB[res]\n",
    "            totalSolvMon[ch.id] += solvA[res]\n",
    "\n",
    "            total += elec[res] + vdw[res] + solvAB[res] - solvA[res]\n",
    "\n",
    "    print('{:20}: {:11.4f}'.format('Total Elec Int.', totalIntElec), file = result)\n",
    "    print('{:20}: {:11.4f}'.format('Total Vdw Int.', totalIntVdw), file = result)\n",
    "    print('{:20}: {:11.4f}'.format('Total Solv AB', totalSolv), file = result)\n",
    "    print('{:19}{}: {:11.4f}'.format('Total Solv ', chids[0], totalSolvMon[chids[0]]), file = result)\n",
    "    print('{:19}{}: {:11.4f}'.format('Total Solv ', chids[1], totalSolvMon[chids[1]]), file = result)\n",
    "    print('{:20}: {:11.4f}'.format('DG int AB-A-B', total), file = result)"
   ]
  },
  {
   "cell_type": "markdown",
   "metadata": {},
   "source": [
    "# STEP 3"
   ]
  },
  {
   "cell_type": "code",
   "execution_count": 81,
   "metadata": {},
   "outputs": [],
   "source": [
    "# Calculate the  effect of replacing each residue by an alanine\n",
    "with open(\"ala_scanning.txt\", \"a\") as alanine:\n",
    "    for ch in st[0]:\n",
    "        for res in ch.get_residues():\n",
    "            if max_dist > 0 and res not in interface[ch.id]:\n",
    "                continue\n",
    "            print(\n",
    "                '{:11} {:11.4f}{:11.4f}{:11.4f}{:11.4f}{:11.4f}'.format(residue_id(res), \n",
    "                    - elec[res] + elec_ala[res], \n",
    "                    - vdw[res] + vdw_ala[res],\n",
    "                    - solvAB[res] + solvAB_ala[res],\n",
    "                    - solvA[res] + solvA_ala[res],\n",
    "                    - elec[res] + elec_ala[res] - vdw[res] + vdw_ala[res] -solvAB[res] +\\\n",
    "                        solvAB_ala[res] -solvA[res] + solvA_ala[res]), file = alanine)"
   ]
  },
  {
   "cell_type": "markdown",
   "metadata": {},
   "source": [
    "# STEP 2 (optional)"
   ]
  },
  {
   "cell_type": "markdown",
   "metadata": {},
   "source": [
    "Calculation of the interaction energies of all residues"
   ]
  },
  {
   "cell_type": "code",
   "execution_count": 82,
   "metadata": {},
   "outputs": [
    {
     "name": "stdout",
     "output_type": "stream",
     "text": [
      "WARNING: atom not found in library ( SER:H1 )\n",
      "WARNING: residue/atom pair not in library (SER A19.H1)\n",
      "WARNING: atom not found in library ( SER:H2 )\n",
      "WARNING: residue/atom pair not in library (SER A19.H2)\n",
      "WARNING: atom not found in library ( SER:H3 )\n",
      "WARNING: residue/atom pair not in library (SER A19.H3)\n",
      "WARNING: atom not found in library ( ASP:OXT )\n",
      "WARNING: residue/atom pair not in library (ASP A615.OXT)\n",
      "WARNING: atom not found in library ( THR:H1 )\n",
      "WARNING: residue/atom pair not in library (THR E333.H1)\n",
      "WARNING: atom not found in library ( THR:H2 )\n",
      "WARNING: residue/atom pair not in library (THR E333.H2)\n",
      "WARNING: atom not found in library ( THR:H3 )\n",
      "WARNING: residue/atom pair not in library (THR E333.H3)\n",
      "WARNING: atom not found in library ( GLY:OXT )\n",
      "WARNING: residue/atom pair not in library (GLY E526.OXT)\n"
     ]
    }
   ],
   "source": [
    "add_atom_parameters(st, residue_library, ff_params)"
   ]
  },
  {
   "cell_type": "code",
   "execution_count": 83,
   "metadata": {},
   "outputs": [],
   "source": [
    "NACCESS_BINARY = '//home/jancarreras/Desktop/BIOINFO/2n/Biophysics/project/Parameter/naccess'\n",
    "srf = NACCESS_atomic(st[0], naccess_binary=NACCESS_BINARY)"
   ]
  },
  {
   "cell_type": "code",
   "execution_count": 84,
   "metadata": {},
   "outputs": [],
   "source": [
    "io = PDBIO()\n",
    "st_chains = {}\n",
    "max_dist = 0"
   ]
  },
  {
   "cell_type": "code",
   "execution_count": 85,
   "metadata": {},
   "outputs": [
    {
     "name": "stdout",
     "output_type": "stream",
     "text": [
      "WARNING: atom not found in library ( SER:H1 )\n",
      "WARNING: residue/atom pair not in library (SER A19.H1)\n",
      "WARNING: atom not found in library ( SER:H2 )\n",
      "WARNING: residue/atom pair not in library (SER A19.H2)\n",
      "WARNING: atom not found in library ( SER:H3 )\n",
      "WARNING: residue/atom pair not in library (SER A19.H3)\n",
      "WARNING: atom not found in library ( ASP:OXT )\n",
      "WARNING: residue/atom pair not in library (ASP A615.OXT)\n",
      "WARNING: atom not found in library ( THR:H1 )\n",
      "WARNING: residue/atom pair not in library (THR E333.H1)\n",
      "WARNING: atom not found in library ( THR:H2 )\n",
      "WARNING: residue/atom pair not in library (THR E333.H2)\n",
      "WARNING: atom not found in library ( THR:H3 )\n",
      "WARNING: residue/atom pair not in library (THR E333.H3)\n",
      "WARNING: atom not found in library ( GLY:OXT )\n",
      "WARNING: residue/atom pair not in library (GLY E526.OXT)\n"
     ]
    }
   ],
   "source": [
    "# Get the chains\n",
    "class SelectChain(Select):\n",
    "    def __init__(self, chid):\n",
    "        self.id = chid\n",
    "\n",
    "    def accept_chain(self, chain):\n",
    "        if chain.id == self.id:\n",
    "            return 1\n",
    "        else:\n",
    "            return 0\n",
    "        \n",
    "for ch in st[0]:\n",
    "    io.set_structure(st)\n",
    "    io.save('tmp.pdb', SelectChain(ch.id))\n",
    "    st_chains[ch.id] = parser.get_structure('stA', 'tmp.pdb')\n",
    "    add_atom_parameters(st_chains[ch.id], residue_library, ff_params)\n",
    "    srfA = NACCESS_atomic(st_chains[ch.id][0], naccess_binary=NACCESS_BINARY)\n",
    "os.remove('tmp.pdb')"
   ]
  },
  {
   "cell_type": "code",
   "execution_count": 86,
   "metadata": {},
   "outputs": [],
   "source": [
    "if max_dist > 0.:\n",
    "    interface = get_interface(st, max_dist)"
   ]
  },
  {
   "cell_type": "code",
   "execution_count": 87,
   "metadata": {},
   "outputs": [],
   "source": [
    "# Inizialize dictionaries to store energies individually for each chain\n",
    "elec = {}\n",
    "elec_ala = {}\n",
    "\n",
    "vdw = {}\n",
    "vdw_ala = {}\n",
    "\n",
    "solvAB = {}\n",
    "solvAB_ala = {}\n",
    "\n",
    "solvA = {}\n",
    "solvA_ala = {}\n",
    "\n",
    "# Inizialize conter variables to 0\n",
    "totalIntElec = 0.\n",
    "totalIntVdw = 0.\n",
    "totalSolv = 0.\n",
    "totalSolvMon = {}"
   ]
  },
  {
   "cell_type": "code",
   "execution_count": 88,
   "metadata": {},
   "outputs": [],
   "source": [
    "# Get the chains IDs, which won't be always A or B.\n",
    "# Inizialize a variable for the solvation of each chain\n",
    "chids = []\n",
    "for ch in st[0]:\n",
    "    chids.append(ch.id)\n",
    "    totalSolvMon[ch.id] = 0"
   ]
  },
  {
   "cell_type": "code",
   "execution_count": 89,
   "metadata": {},
   "outputs": [],
   "source": [
    "# Total counter for the binding energy\n",
    "total = 0."
   ]
  },
  {
   "cell_type": "code",
   "execution_count": 90,
   "metadata": {},
   "outputs": [],
   "source": [
    "# Calculate the interaction energies for all the residues\n",
    "with open(\"all_energy_ DG.txt\", \"a\") as result:\n",
    "    for ch in st[0]:\n",
    "        for res in ch.get_residues():\n",
    "            if max_dist > 0 and res not in interface[ch.id]:\n",
    "                continue\n",
    "            \n",
    "            # Get the energies\n",
    "            elec[res], elec_ala[res], vdw[res], vdw_ala[res] = calc_int_energies(st[0], res)\n",
    "            solvAB[res], solvAB_ala[res] = calc_solvation(st[0], res)\n",
    "            solvA[res], solvA_ala[res] = calc_solvation(st_chains[ch.id], st_chains[ch.id][0][ch.id][res.id[1]])\n",
    "\n",
    "            # Add the values\n",
    "            totalIntElec += elec[res]\n",
    "            totalIntVdw += vdw[res]\n",
    "            totalSolv += solvAB[res]\n",
    "            totalSolvMon[ch.id] += solvA[res]\n",
    "\n",
    "            total += elec[res] + vdw[res] + solvAB[res] - solvA[res]\n",
    "\n",
    "    print('{:20}: {:11.4f}'.format('Total Elec Int.', totalIntElec), file = result)\n",
    "    print('{:20}: {:11.4f}'.format('Total Vdw Int.', totalIntVdw), file = result)\n",
    "    print('{:20}: {:11.4f}'.format('Total Solv AB', totalSolv), file = result)\n",
    "    print('{:19}{}: {:11.4f}'.format('Total Solv ', chids[0], totalSolvMon[chids[0]]), file = result)\n",
    "    print('{:19}{}: {:11.4f}'.format('Total Solv ', chids[1], totalSolvMon[chids[1]]), file = result)\n",
    "    print('{:20}: {:11.4f}'.format('DG AB-A-B', total), file = result)"
   ]
  }
 ],
 "metadata": {
  "kernelspec": {
   "display_name": "base",
   "language": "python",
   "name": "python3"
  },
  "language_info": {
   "codemirror_mode": {
    "name": "ipython",
    "version": 3
   },
   "file_extension": ".py",
   "mimetype": "text/x-python",
   "name": "python",
   "nbconvert_exporter": "python",
   "pygments_lexer": "ipython3",
   "version": "3.9.12"
  }
 },
 "nbformat": 4,
 "nbformat_minor": 2
}
