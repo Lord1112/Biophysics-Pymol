{
 "cells": [
  {
   "cell_type": "code",
   "execution_count": 6,
   "metadata": {},
   "outputs": [],
   "source": [
    "import biobb_structure_checking\n",
    "import biobb_structure_checking.constants as cts\n",
    "from biobb_structure_checking.structure_checking import StructureChecking\n",
    "base_dir_path=biobb_structure_checking.__path__[0]\n",
    "base_path = ''\n",
    "args = cts.set_defaults(base_dir_path,{'notebook':True})\n",
    "args['input_structure_path'] = base_path + '6m0j.cif'\n",
    "args['output_structure_path'] = base_path + '6m0j_fixed.pdb'\n",
    "args['output_structure_path_charges'] = base_path + '6m0j_fixed.pdbqt'\n",
    "args['debug'] = False\n",
    "args['verbose'] = False\n",
    "#Added missing defaults\n",
    "args['time_limit'] = 3600\n",
    "args['nocache'] = False\n",
    "args['copy_input'] = None\n",
    "args['build_warnings'] = False\n",
    "args['coords_only'] = False\n",
    "args['overwrite'] = False\n",
    "args['output_format'] = 'pdb'\n",
    "args['keep_canonical'] = False"
   ]
  },
  {
   "cell_type": "code",
   "execution_count": 7,
   "metadata": {},
   "outputs": [
    {
     "ename": "KeyError",
     "evalue": "'time_limit'",
     "output_type": "error",
     "traceback": [
      "\u001b[0;31m---------------------------------------------------------------------------\u001b[0m",
      "\u001b[0;31mKeyError\u001b[0m                                  Traceback (most recent call last)",
      "\u001b[1;32m/home/adria/Desktop/Biofisica/Biophysics-Pymol/jupy.ipynb Cell 2\u001b[0m in \u001b[0;36m<cell line: 1>\u001b[0;34m()\u001b[0m\n\u001b[0;32m----> <a href='vscode-notebook-cell:/home/adria/Desktop/Biofisica/Biophysics-Pymol/jupy.ipynb#W1sZmlsZQ%3D%3D?line=0'>1</a>\u001b[0m st_c \u001b[39m=\u001b[39m StructureChecking(base_dir_path, args)\n",
      "File \u001b[0;32m~/anaconda3/lib/python3.9/site-packages/biobb_structure_checking/structure_checking.py:42\u001b[0m, in \u001b[0;36mStructureChecking.__init__\u001b[0;34m(self, base_dir_path, args)\u001b[0m\n\u001b[1;32m     39\u001b[0m \u001b[39mself\u001b[39m\u001b[39m.\u001b[39margs \u001b[39m=\u001b[39m cts\u001b[39m.\u001b[39mset_defaults(base_dir_path, args)\n\u001b[1;32m     41\u001b[0m \u001b[39mself\u001b[39m\u001b[39m.\u001b[39msummary \u001b[39m=\u001b[39m {}\n\u001b[0;32m---> 42\u001b[0m \u001b[39mif\u001b[39;00m \u001b[39mself\u001b[39m\u001b[39m.\u001b[39margs[\u001b[39m'\u001b[39m\u001b[39mdebug\u001b[39m\u001b[39m'\u001b[39m] \u001b[39mor\u001b[39;00m args[\u001b[39m'\u001b[39;49m\u001b[39mtime_limit\u001b[39;49m\u001b[39m'\u001b[39;49m]:\n\u001b[1;32m     43\u001b[0m     \u001b[39mimport\u001b[39;00m \u001b[39mpsutil\u001b[39;00m\n\u001b[1;32m     44\u001b[0m     \u001b[39mself\u001b[39m\u001b[39m.\u001b[39mstart_time \u001b[39m=\u001b[39m time\u001b[39m.\u001b[39mtime()\n",
      "\u001b[0;31mKeyError\u001b[0m: 'time_limit'"
     ]
    }
   ],
   "source": [
    "st_c = StructureChecking(base_dir_path, args)"
   ]
  }
 ],
 "metadata": {
  "kernelspec": {
   "display_name": "base",
   "language": "python",
   "name": "python3"
  },
  "language_info": {
   "codemirror_mode": {
    "name": "ipython",
    "version": 3
   },
   "file_extension": ".py",
   "mimetype": "text/x-python",
   "name": "python",
   "nbconvert_exporter": "python",
   "pygments_lexer": "ipython3",
   "version": "3.9.12"
  },
  "orig_nbformat": 4
 },
 "nbformat": 4,
 "nbformat_minor": 2
}
